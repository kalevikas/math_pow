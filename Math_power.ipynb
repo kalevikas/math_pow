{
 "cells": [
  {
   "cell_type": "markdown",
   "id": "a96eb97a",
   "metadata": {},
   "source": [
    "## Take two numbers from the users. Calculate the result of second number power of the first number."
   ]
  },
  {
   "cell_type": "raw",
   "id": "4f5eff67",
   "metadata": {},
   "source": [
    "To power, you will need to use two asterisks symbols (two multiplication symbols). For example 4 to the power 3 will be\n",
    "\n",
    "result = 4**3"
   ]
  },
  {
   "cell_type": "code",
   "execution_count": 6,
   "id": "b184d4af",
   "metadata": {},
   "outputs": [
    {
     "name": "stdout",
     "output_type": "stream",
     "text": [
      "Enter number n1: 4\n",
      "Enter number n2: 2\n",
      "16\n"
     ]
    }
   ],
   "source": [
    "n1=int(input(\"Enter number n1: \"))\n",
    "n2=int(input(\"Enter number n2: \"))\n",
    "\n",
    "result=n2**n1\n",
    "print(result)"
   ]
  },
  {
   "cell_type": "raw",
   "id": "1d6dd625",
   "metadata": {},
   "source": [
    "Python has a built-in function named pow. The pow is a short form of the word power. And you can pass 2 numbers to the pow function. It will give you the second number as a power of the first number."
   ]
  },
  {
   "cell_type": "code",
   "execution_count": 8,
   "id": "b8e1350e",
   "metadata": {},
   "outputs": [
    {
     "name": "stdout",
     "output_type": "stream",
     "text": [
      "Enter number n1: 4\n",
      "Enter number n2: 2\n",
      "16\n"
     ]
    }
   ],
   "source": [
    "n1=int(input(\"Enter number n1: \"))\n",
    "n2=int(input(\"Enter number n2: \"))\n",
    "\n",
    "result=pow(n1,n2)\n",
    "print(result)"
   ]
  },
  {
   "cell_type": "code",
   "execution_count": 9,
   "id": "f9099644",
   "metadata": {},
   "outputs": [
    {
     "data": {
      "text/plain": [
       "9"
      ]
     },
     "execution_count": 9,
     "metadata": {},
     "output_type": "execute_result"
    }
   ],
   "source": [
    "pow(3,2)"
   ]
  },
  {
   "cell_type": "code",
   "execution_count": 10,
   "id": "c2ce55d9",
   "metadata": {},
   "outputs": [
    {
     "data": {
      "text/plain": [
       "9"
      ]
     },
     "execution_count": 10,
     "metadata": {},
     "output_type": "execute_result"
    }
   ],
   "source": [
    "3**2"
   ]
  },
  {
   "cell_type": "code",
   "execution_count": 11,
   "id": "a304903b",
   "metadata": {},
   "outputs": [
    {
     "data": {
      "text/plain": [
       "16"
      ]
     },
     "execution_count": 11,
     "metadata": {},
     "output_type": "execute_result"
    }
   ],
   "source": [
    "pow(2,4)"
   ]
  },
  {
   "cell_type": "code",
   "execution_count": null,
   "id": "f3a4400f",
   "metadata": {},
   "outputs": [],
   "source": []
  }
 ],
 "metadata": {
  "kernelspec": {
   "display_name": "Python 3",
   "language": "python",
   "name": "python3"
  },
  "language_info": {
   "codemirror_mode": {
    "name": "ipython",
    "version": 3
   },
   "file_extension": ".py",
   "mimetype": "text/x-python",
   "name": "python",
   "nbconvert_exporter": "python",
   "pygments_lexer": "ipython3",
   "version": "3.8.8"
  }
 },
 "nbformat": 4,
 "nbformat_minor": 5
}
